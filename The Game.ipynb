{
 "cells": [
  {
   "cell_type": "code",
   "execution_count": 71,
   "metadata": {},
   "outputs": [],
   "source": [
    "from sys import exit"
   ]
  },
  {
   "cell_type": "code",
   "execution_count": 72,
   "metadata": {},
   "outputs": [],
   "source": [
    "# the scene class\n",
    "class Scene:\n",
    "    pass"
   ]
  },
  {
   "cell_type": "code",
   "execution_count": 73,
   "metadata": {},
   "outputs": [],
   "source": [
    "class Death(Scene):\n",
    "    \n",
    "    mode = [\"You are finished\", \"Better Luck next time\", \"Game Over\"]\n",
    "    \n",
    "    \n",
    "    def enter(self):\n",
    "        print(Death.mode[1])\n",
    "        exit(1)"
   ]
  },
  {
   "cell_type": "code",
   "execution_count": 74,
   "metadata": {},
   "outputs": [],
   "source": [
    "d = Death()"
   ]
  },
  {
   "cell_type": "code",
   "execution_count": 75,
   "metadata": {},
   "outputs": [],
   "source": [
    "class Step1(Scene):\n",
    "    \n",
    "    def enter(self):\n",
    "        print(\"Choose Yes or No\")\n",
    "        action = input(\"> \")\n",
    "        \n",
    "        if action == \"Yes\":\n",
    "            print(\"proceed to step 2\")\n",
    "            return \"Step2\"\n",
    "        else:\n",
    "            print(\"wrong choice\")\n",
    "            return 'death'"
   ]
  },
  {
   "cell_type": "code",
   "execution_count": 76,
   "metadata": {},
   "outputs": [],
   "source": [
    "class Step2(Scene):\n",
    "    \n",
    "    def enter(self):\n",
    "        print(\"congrats, you are now in step 2\")\n",
    "        print(\"take an action\")\n",
    "        guess = input(\"> \")\n",
    "        \n",
    "        if guess == \"Yes\":\n",
    "            print(\"Well done\")\n",
    "            return 'finished'\n",
    "        else:\n",
    "            print(\"you lose\")\n",
    "            return 'death'       "
   ]
  },
  {
   "cell_type": "code",
   "execution_count": 77,
   "metadata": {},
   "outputs": [],
   "source": [
    "class Finished(Scene):\n",
    "    \n",
    "    def enter(self):\n",
    "        print(\"You won, good job\")\n",
    "        return 'finished'"
   ]
  },
  {
   "cell_type": "code",
   "execution_count": 78,
   "metadata": {},
   "outputs": [],
   "source": [
    "class Engine:\n",
    "    \n",
    "    def __init__(self, scene_map):\n",
    "        self.scene_map = scene_map\n",
    "        \n",
    "    def play(self):\n",
    "        current_scene = self.scene_map.opening_scene()\n",
    "        last_scene = self.scene_map.next_scene('finished')\n",
    "        \n",
    "        while current_scene != last_scene:\n",
    "            next_scene_name = current_scene.enter()\n",
    "            current_scene = self.scene_map.next_scene(next_scene_name)\n",
    "        \n",
    "        current_scene.enter()"
   ]
  },
  {
   "cell_type": "code",
   "execution_count": 79,
   "metadata": {},
   "outputs": [],
   "source": [
    "class Map:\n",
    "    \n",
    "    scenes = {'Step1': Step1(), 'Step2': Step2(), 'finished': Finished(), 'death':Death()}\n",
    "    \n",
    "    def __init__(self,start_scene):\n",
    "        self.start_scene = start_scene\n",
    "        \n",
    "    def next_scene(self, scene_name):\n",
    "        val = Map.scenes.get(scene_name)\n",
    "        return val\n",
    "    \n",
    "    def opening_scene(self):\n",
    "        return self.next_scene(self.start_scene)"
   ]
  },
  {
   "cell_type": "code",
   "execution_count": 80,
   "metadata": {},
   "outputs": [],
   "source": [
    "a_map = Map('Step1')"
   ]
  },
  {
   "cell_type": "code",
   "execution_count": 81,
   "metadata": {},
   "outputs": [],
   "source": [
    "a_game = Engine(a_map)"
   ]
  },
  {
   "cell_type": "code",
   "execution_count": 83,
   "metadata": {},
   "outputs": [
    {
     "name": "stdout",
     "output_type": "stream",
     "text": [
      "Choose Yes or No\n",
      "> Yes\n",
      "proceed to step 2\n",
      "congrats, you are now in step 2\n",
      "take an action\n",
      "> Yes\n",
      "Well done\n",
      "You won, good job\n"
     ]
    }
   ],
   "source": [
    "a_game.play()"
   ]
  }
 ],
 "metadata": {
  "kernelspec": {
   "display_name": "Python 3",
   "language": "python",
   "name": "python3"
  },
  "language_info": {
   "codemirror_mode": {
    "name": "ipython",
    "version": 3
   },
   "file_extension": ".py",
   "mimetype": "text/x-python",
   "name": "python",
   "nbconvert_exporter": "python",
   "pygments_lexer": "ipython3",
   "version": "3.7.4"
  }
 },
 "nbformat": 4,
 "nbformat_minor": 2
}
